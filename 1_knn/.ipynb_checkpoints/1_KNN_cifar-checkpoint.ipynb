{
 "cells": [
  {
   "cell_type": "markdown",
   "metadata": {},
   "source": [
    "## Use KNN to classify cifar10"
   ]
  },
  {
   "cell_type": "code",
   "execution_count": 2,
   "metadata": {},
   "outputs": [
    {
     "name": "stderr",
     "output_type": "stream",
     "text": [
      "Using TensorFlow backend.\n"
     ]
    }
   ],
   "source": [
    "import numpy as np\n",
    "import matplotlib.pyplot as plt\n",
    "from keras.datasets import cifar10\n",
    "from collections import Counter"
   ]
  },
  {
   "cell_type": "code",
   "execution_count": 54,
   "metadata": {},
   "outputs": [],
   "source": [
    "(X_train, y_train),(X_test, y_test) = cifar10.load_data()"
   ]
  },
  {
   "cell_type": "code",
   "execution_count": 55,
   "metadata": {},
   "outputs": [
    {
     "data": {
      "text/plain": [
       "(50000, 32, 32, 3)"
      ]
     },
     "execution_count": 55,
     "metadata": {},
     "output_type": "execute_result"
    }
   ],
   "source": [
    "X_train.shape"
   ]
  },
  {
   "cell_type": "code",
   "execution_count": 56,
   "metadata": {},
   "outputs": [],
   "source": [
    "# Hyper-parameters\n",
    "nr_train = 500\n",
    "nr_test = 100\n",
    "k = 5"
   ]
  },
  {
   "cell_type": "code",
   "execution_count": 57,
   "metadata": {},
   "outputs": [],
   "source": [
    "X_train = X_train[:nr_train]\n",
    "y_train = y_train[:nr_train]\n",
    "X_test = X_test[:nr_test]\n",
    "y_test = y_test[:nr_test]"
   ]
  },
  {
   "cell_type": "code",
   "execution_count": 58,
   "metadata": {},
   "outputs": [
    {
     "data": {
      "text/plain": [
       "<matplotlib.image.AxesImage at 0x7fd6841298d0>"
      ]
     },
     "execution_count": 58,
     "metadata": {},
     "output_type": "execute_result"
    },
    {
     "data": {
      "image/png": "[encoded data removed]",
      "text/plain": [
       "<Figure size 432x288 with 1 Axes>"
      ]
     },
     "metadata": {
      "needs_background": "light"
     },
     "output_type": "display_data"
    }
   ],
   "source": [
    "plt.imshow(X_train[1])"
   ]
  },
  {
   "cell_type": "code",
   "execution_count": 60,
   "metadata": {},
   "outputs": [
    {
     "data": {
      "text/plain": [
       "(100, 3072)"
      ]
     },
     "execution_count": 60,
     "metadata": {},
     "output_type": "execute_result"
    }
   ],
   "source": [
    "X_train = X_train.reshape(nr_train, -1)\n",
    "X_test = X_test.reshape(nr_test, -1)\n",
    "X_test.shape"
   ]
  },
  {
   "cell_type": "code",
   "execution_count": 61,
   "metadata": {},
   "outputs": [
    {
     "data": {
      "text/plain": [
       "1.4142135623730951"
      ]
     },
     "execution_count": 61,
     "metadata": {},
     "output_type": "execute_result"
    }
   ],
   "source": [
    "def euclidean_distance(x1, x2):\n",
    "    return np.sqrt(np.sum((x1-x2)**2))\n",
    "euclidean_distance(np.array([1,1]),np.array([2,2]))"
   ]
  },
  {
   "cell_type": "code",
   "execution_count": 62,
   "metadata": {},
   "outputs": [
    {
     "data": {
      "text/plain": [
       "569.7191509274703"
      ]
     },
     "execution_count": 62,
     "metadata": {},
     "output_type": "execute_result"
    }
   ],
   "source": [
    "# take 1 example from X_test to calc the distance to training dataset\n",
    "dists = [euclidean_distance(X_test[0], x_train) for x_train in X_train]\n",
    "np.mean(dists)"
   ]
  },
  {
   "cell_type": "code",
   "execution_count": 63,
   "metadata": {},
   "outputs": [
    {
     "data": {
      "text/plain": [
       "array([249, 359, 220, 365, 145])"
      ]
     },
     "execution_count": 63,
     "metadata": {},
     "output_type": "execute_result"
    }
   ],
   "source": [
    "k_idx = np.argsort(dists)[:k]\n",
    "k_idx"
   ]
  },
  {
   "cell_type": "code",
   "execution_count": 64,
   "metadata": {},
   "outputs": [
    {
     "data": {
      "text/plain": [
       "[6, 5, 0, 8, 4]"
      ]
     },
     "execution_count": 64,
     "metadata": {},
     "output_type": "execute_result"
    }
   ],
   "source": [
    "k_label = [int(y_train[idx]) for idx in k_idx]\n",
    "k_label"
   ]
  },
  {
   "cell_type": "code",
   "execution_count": 65,
   "metadata": {},
   "outputs": [
    {
     "data": {
      "text/plain": [
       "6"
      ]
     },
     "execution_count": 65,
     "metadata": {},
     "output_type": "execute_result"
    }
   ],
   "source": [
    "most_common = Counter(k_label).most_common(1)\n",
    "most_common[0][0]"
   ]
  },
  {
   "cell_type": "code",
   "execution_count": 66,
   "metadata": {},
   "outputs": [],
   "source": [
    "# with 100 data points from test dataset\n",
    "# With Euclidean Function, actually 2 loops\n",
    "dists = np.zeros([nr_test, nr_train])\n",
    "y_pred = np.zeros(nr_test, dtype=np.int32)\n",
    "for i in range(nr_test):\n",
    "    dists[i] = [euclidean_distance(X_test[i], x_train) for x_train in X_train]\n",
    "    k_idx = np.argsort(dists[i])[:k]\n",
    "    k_label = [int(y_train[idx]) for idx in k_idx]\n",
    "    most_common = Counter(k_label).most_common(1)\n",
    "    y_pred[i] = most_common[0][0]"
   ]
  },
  {
   "cell_type": "code",
   "execution_count": 67,
   "metadata": {},
   "outputs": [
    {
     "data": {
      "text/plain": [
       "array([6, 0, 9, 0, 4, 4, 2, 4, 5, 1, 8, 9, 2, 2, 9, 5, 3, 4, 8, 3, 9, 1,\n",
       "       0, 8, 0, 9, 4, 0, 0, 3, 3, 1, 0, 6, 1, 2, 4, 9, 8, 2, 8, 3, 5, 4,\n",
       "       2, 0, 2, 4, 4, 0, 9, 8, 2, 9, 9, 8, 2, 1, 2, 0, 0, 1, 7, 8, 0, 3,\n",
       "       1, 2, 2, 8, 2, 1, 7, 8, 0, 4, 0, 0, 8, 1, 0, 2, 1, 9, 0, 1, 3, 8,\n",
       "       0, 1, 8, 4, 1, 2, 0, 3, 6, 7, 0, 0], dtype=int32)"
      ]
     },
     "execution_count": 67,
     "metadata": {},
     "output_type": "execute_result"
    }
   ],
   "source": [
    "y_pred"
   ]
  },
  {
   "cell_type": "code",
   "execution_count": 68,
   "metadata": {},
   "outputs": [],
   "source": [
    "y_test = y_test.squeeze()"
   ]
  },
  {
   "cell_type": "code",
   "execution_count": 69,
   "metadata": {},
   "outputs": [
    {
     "data": {
      "text/plain": [
       "0.21"
      ]
     },
     "execution_count": 69,
     "metadata": {},
     "output_type": "execute_result"
    }
   ],
   "source": [
    "np.sum(y_test == y_pred)/nr_test #accuracy"
   ]
  },
  {
   "cell_type": "code",
   "execution_count": 79,
   "metadata": {},
   "outputs": [],
   "source": [
    "# with 100 data points from test dataset\n",
    "# 1 loop using boardcasting Without Euclidean Function \n",
    "dists = np.zeros([nr_test, nr_train])\n",
    "y_pred = np.zeros(nr_test, dtype=np.int32)\n"
   ]
  },
  {
   "cell_type": "code",
   "execution_count": 109,
   "metadata": {},
   "outputs": [
    {
     "data": {
      "text/plain": [
       "array([6, 0, 9, 0, 4, 4, 2, 4, 5, 1, 8, 9, 2, 2, 9, 5, 3, 4, 8, 3, 9, 1,\n",
       "       0, 8, 0, 9, 4, 0, 0, 3, 3, 1, 0, 6, 1, 2, 4, 9, 8, 2, 8, 3, 5, 4,\n",
       "       2, 0, 2, 4, 4, 0, 9, 8, 2, 9, 9, 8, 2, 1, 2, 0, 0, 1, 7, 8, 0, 3,\n",
       "       1, 2, 2, 8, 2, 1, 7, 8, 0, 4, 0, 0, 8, 1, 0, 2, 1, 9, 0, 1, 3, 8,\n",
       "       0, 1, 8, 4, 1, 2, 0, 3, 6, 7, 0, 0], dtype=int32)"
      ]
     },
     "execution_count": 109,
     "metadata": {},
     "output_type": "execute_result"
    }
   ],
   "source": [
    "for i in range(nr_test):\n",
    "    #dists[i,:] = np.sqrt(np.sum((X_test[i] - X_train)**2))\n",
    "    dists[i,:] = np.sqrt(np.sum((X_test[i] - X_train)**2, axis = 1))\n",
    "    k_idx = np.argsort(dists[i,:])[:k]\n",
    "    y_labels = [int(y_train[i]) for i in k_idx]\n",
    "    most_common = Counter(y_labels).most_common(1)\n",
    "    #print(most_common[0][0])\n",
    "    y_pred[i] = most_common[0][0]\n",
    "   "
   ]
  },
  {
   "cell_type": "code",
   "execution_count": 112,
   "metadata": {},
   "outputs": [
    {
     "data": {
      "text/plain": [
       "0.21"
      ]
     },
     "execution_count": 112,
     "metadata": {},
     "output_type": "execute_result"
    }
   ],
   "source": [
    "sum(y_pred == y_test)/nr_test"
   ]
  },
  {
   "cell_type": "code",
   "execution_count": null,
   "metadata": {},
   "outputs": [],
   "source": []
  }
 ],
 "metadata": {
  "kernelspec": {
   "display_name": "Python 3",
   "language": "python",
   "name": "python3"
  },
  "language_info": {
   "codemirror_mode": {
    "name": "ipython",
    "version": 3
   },
   "file_extension": ".py",
   "mimetype": "text/x-python",
   "name": "python",
   "nbconvert_exporter": "python",
   "pygments_lexer": "ipython3",
   "version": "3.7.1"
  }
 },
 "nbformat": 4,
 "nbformat_minor": 4
}
